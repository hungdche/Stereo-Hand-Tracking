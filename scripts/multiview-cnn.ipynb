{
 "cells": [
  {
   "cell_type": "code",
   "execution_count": 1,
   "id": "50d6ac7e",
   "metadata": {},
   "outputs": [],
   "source": [
    "import cv2\n",
    "import torch\n",
    "import torch.optim as optim\n",
    "from torch.utils.data import DataLoader\n",
    "import matplotlib.pyplot as plt\n",
    "%matplotlib inline  \n",
    "\n",
    "from heatmap_estimator import HeatmapEstimator\n",
    "from projection_dataset import ProjectionDataset\n",
    "%load_ext autoreload\n",
    "%autoreload 2"
   ]
  },
  {
   "cell_type": "code",
   "execution_count": null,
   "id": "c677d08f",
   "metadata": {},
   "outputs": [],
   "source": [
    "dataset_dir = \"../data/projections\"\n",
    "plane = \"XY\" # Other planes: YZ and ZX\n",
    "model_path = \"../models/\" + plane + \".pth\""
   ]
  },
  {
   "cell_type": "code",
   "execution_count": 3,
   "id": "670a1c78",
   "metadata": {},
   "outputs": [],
   "source": [
    "train_subjects = [\"P1\", \"P2\", \"P3\", \"P4\", \"P5\", \"P6\", \"P7\", \"P8\"]\n",
    "train_gestures = [\"1\", \"2\", \"3\", \"4\", \"5\", \"6\", \"7\", \"8\", \"9\", \"I\", \"IP\", \"L\", \"MP\", \"RP\", \"T\", \"TIP\", \"Y\"]\n",
    "train_dataset = ProjectionDataset(dataset_dir, train_subjects, train_gestures, plane)\n",
    "train_dataloader = DataLoader(train_dataset, batch_size=256, shuffle=True)"
   ]
  },
  {
   "cell_type": "code",
   "execution_count": 4,
   "id": "04d8d7fb",
   "metadata": {},
   "outputs": [],
   "source": [
    "val_subjects = [\"P0\"]\n",
    "val_gestures = [\"1\", \"2\", \"3\", \"4\", \"5\", \"6\", \"7\", \"8\", \"9\", \"I\", \"IP\", \"L\", \"MP\", \"RP\", \"T\", \"TIP\", \"Y\"]\n",
    "val_dataset = ProjectionDataset(dataset_dir, val_subjects, val_gestures, plane)\n",
    "val_dataloader = DataLoader(val_dataset, batch_size=256, shuffle=False)"
   ]
  },
  {
   "cell_type": "code",
   "execution_count": 5,
   "id": "b19ddf31",
   "metadata": {
    "scrolled": false
   },
   "outputs": [
    {
     "data": {
      "image/png": "[encoded data removed]",
      "text/plain": [
       "<Figure size 640x480 with 1 Axes>"
      ]
     },
     "metadata": {},
     "output_type": "display_data"
    },
    {
     "data": {
      "image/png": "[encoded data removed]",
      "text/plain": [
       "<Figure size 640x480 with 1 Axes>"
      ]
     },
     "metadata": {},
     "output_type": "display_data"
    }
   ],
   "source": [
    "# Visualize sample\n",
    "image, heatmap_gt = next(iter(train_dataloader))\n",
    "\n",
    "plt.imshow(torch.squeeze(image[0], 0).numpy(), cmap='gray', vmin=-1, vmax=1)\n",
    "plt.show()\n",
    "\n",
    "plt.imshow(torch.squeeze(heatmap_gt[0][0], 0).numpy(), cmap='gray', vmin=0, vmax=1)\n",
    "plt.show()"
   ]
  },
  {
   "cell_type": "code",
   "execution_count": 6,
   "id": "41e5e980",
   "metadata": {},
   "outputs": [],
   "source": [
    "# Load the model\n",
    "device = 'cuda'\n",
    "model = HeatmapEstimator().to(device)"
   ]
  },
  {
   "cell_type": "code",
   "execution_count": 7,
   "id": "3b1c79fc",
   "metadata": {},
   "outputs": [],
   "source": [
    "# Configure the optimizer and criterion\n",
    "optimizer = torch.optim.SGD(model.parameters(), lr=0.005, momentum=0.9, weight_decay=0.0005)\n",
    "criterion = torch.nn.MSELoss()"
   ]
  },
  {
   "cell_type": "code",
   "execution_count": 8,
   "id": "eafbb0cc",
   "metadata": {},
   "outputs": [
    {
     "name": "stdout",
     "output_type": "stream",
     "text": [
      "Computing epoch 0\n",
      "Minibatch 0 Loss = 0.03458139\n",
      "Minibatch 50 Loss = 0.03274950\n",
      "Minibatch 100 Loss = 0.03012082\n",
      "Minibatch 150 Loss = 0.02644211\n",
      "Minibatch 200 Loss = 0.02520524\n",
      "Minibatch 250 Loss = 0.02485955\n",
      "Epoch 0: Training Loss = 7.59465221, Validation Loss = 0.85923940\n",
      "Computing epoch 1\n",
      "Minibatch 0 Loss = 0.02462761\n",
      "Minibatch 50 Loss = 0.02465205\n",
      "Minibatch 100 Loss = 0.02502252\n",
      "Minibatch 150 Loss = 0.02462001\n"
     ]
    },
    {
     "ename": "KeyboardInterrupt",
     "evalue": "",
     "output_type": "error",
     "traceback": [
      "\u001b[0;31m---------------------------------------------------------------------------\u001b[0m",
      "\u001b[0;31mKeyboardInterrupt\u001b[0m                         Traceback (most recent call last)",
      "Cell \u001b[0;32mIn[8], line 17\u001b[0m\n\u001b[1;32m     14\u001b[0m lcn \u001b[38;5;241m=\u001b[39m torch\u001b[38;5;241m.\u001b[39munsqueeze(lcn, dim\u001b[38;5;241m=\u001b[39m\u001b[38;5;241m1\u001b[39m)\n\u001b[1;32m     15\u001b[0m pred \u001b[38;5;241m=\u001b[39m model(lcn)\n\u001b[0;32m---> 17\u001b[0m heatmaps \u001b[38;5;241m=\u001b[39m \u001b[43mheatmaps\u001b[49m\u001b[38;5;241;43m.\u001b[39;49m\u001b[43mtype\u001b[49m\u001b[43m(\u001b[49m\u001b[43mtorch\u001b[49m\u001b[38;5;241;43m.\u001b[39;49m\u001b[43mFloatTensor\u001b[49m\u001b[43m)\u001b[49m\u001b[38;5;241;43m.\u001b[39;49m\u001b[43mto\u001b[49m\u001b[43m(\u001b[49m\u001b[43mdevice\u001b[49m\u001b[43m)\u001b[49m\n\u001b[1;32m     18\u001b[0m loss \u001b[38;5;241m=\u001b[39m criterion(pred, heatmaps)\n\u001b[1;32m     20\u001b[0m loss\u001b[38;5;241m.\u001b[39mbackward()\n",
      "\u001b[0;31mKeyboardInterrupt\u001b[0m: "
     ]
    }
   ],
   "source": [
    "# Main training loop\n",
    "epochs = 50\n",
    "train_loss_over_epochs = []\n",
    "val_loss_over_epochs = []\n",
    "for epoch in range(epochs):\n",
    "    print(\"Computing epoch\", epoch)\n",
    "    minibatch = 0\n",
    "\n",
    "    train_loss = 0\n",
    "    for lcn, heatmaps in train_dataloader:    \n",
    "        optimizer.zero_grad()\n",
    "        \n",
    "        lcn = lcn.type(torch.FloatTensor).to(device)\n",
    "        lcn = torch.unsqueeze(lcn, dim=1)\n",
    "        pred = model(lcn)\n",
    "        \n",
    "        heatmaps = heatmaps.type(torch.FloatTensor).to(device)\n",
    "        loss = criterion(pred, heatmaps)\n",
    "        \n",
    "        loss.backward()\n",
    "        optimizer.step()\n",
    "        \n",
    "        if (minibatch % 50 == 0):\n",
    "            print(\"Minibatch {} Loss = {:.8f}\".format(minibatch, loss.item()))\n",
    "        minibatch += 1    \n",
    "            \n",
    "        train_loss += loss.item()\n",
    "    train_loss /= len(train_dataloader)\n",
    "    train_loss_over_epochs.append(train_loss)     \n",
    "    \n",
    "    val_loss = 0\n",
    "    model.eval()\n",
    "    with torch.no_grad():\n",
    "        for lcn, heatmaps in val_dataloader:\n",
    "            lcn = lcn.type(torch.FloatTensor).to(device)\n",
    "            lcn = torch.unsqueeze(lcn, dim=1)\n",
    "            pred = model(lcn)\n",
    "\n",
    "            heatmaps = heatmaps.type(torch.FloatTensor).to(device)\n",
    "            loss = criterion(pred, heatmaps)\n",
    "            val_loss += loss\n",
    "    val_loss /= len(val_dataloader)\n",
    "    val_loss_over_epochs.append(val_loss)\n",
    "    \n",
    "    print(\"Epoch {}: Training Loss = {:.8f}, Validation Loss = {:.8f}\".format(epoch, train_loss, val_loss))"
   ]
  },
  {
   "cell_type": "code",
   "execution_count": null,
   "id": "8a0848ac",
   "metadata": {},
   "outputs": [],
   "source": [
    "# Plot training and validation loss\n",
    "plt.subplot(2, 1, 1)\n",
    "plt.ylabel('Loss')\n",
    "plt.plot(np.arange(epochs), train_loss_over_epochs, color='red', label='train')\n",
    "plt.plot(np.arange(epochs), val_loss_over_epochs, color='blue', label='val')\n",
    "plt.title('Loss per Epoch')\n",
    "plt.xticks(np.arange(epochs, dtype=int))\n",
    "plt.grid(True)\n",
    "plt.legend()\n",
    "plt.show()"
   ]
  },
  {
   "cell_type": "code",
   "execution_count": null,
   "id": "45e16c44",
   "metadata": {},
   "outputs": [],
   "source": [
    "torch.save(model.state_dict(), model_path)"
   ]
  },
  {
   "cell_type": "code",
   "execution_count": null,
   "id": "b345f554",
   "metadata": {},
   "outputs": [],
   "source": []
  }
 ],
 "metadata": {
  "kernelspec": {
   "display_name": "Python 3 (ipykernel)",
   "language": "python",
   "name": "python3"
  },
  "language_info": {
   "codemirror_mode": {
    "name": "ipython",
    "version": 3
   },
   "file_extension": ".py",
   "mimetype": "text/x-python",
   "name": "python",
   "nbconvert_exporter": "python",
   "pygments_lexer": "ipython3",
   "version": "3.8.5"
  }
 },
 "nbformat": 4,
 "nbformat_minor": 5
}
