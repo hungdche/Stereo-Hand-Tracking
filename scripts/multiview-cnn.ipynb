{
 "cells": [
  {
   "cell_type": "code",
   "execution_count": 1,
   "id": "50d6ac7e",
   "metadata": {},
   "outputs": [],
   "source": [
    "import cv2\n",
    "import numpy as np\n",
    "import torch\n",
    "import torch.optim as optim\n",
    "from torch.utils.data import DataLoader\n",
    "import matplotlib.pyplot as plt\n",
    "%matplotlib inline  \n",
    "\n",
    "from heatmap_estimator import HeatmapEstimator\n",
    "from projection_dataset import ProjectionDataset\n",
    "%load_ext autoreload\n",
    "%autoreload 2"
   ]
  },
  {
   "cell_type": "code",
   "execution_count": 2,
   "id": "c677d08f",
   "metadata": {},
   "outputs": [],
   "source": [
    "dataset_dir = \"../data/projections\"\n",
    "plane = \"XY\" # Other planes: YZ and ZX\n",
    "model_path = \"../models/\" + plane + \".pth\""
   ]
  },
  {
   "cell_type": "code",
   "execution_count": 3,
   "id": "670a1c78",
   "metadata": {},
   "outputs": [],
   "source": [
    "train_subjects = [\"P1\", \"P2\", \"P3\", \"P4\", \"P5\", \"P6\", \"P7\", \"P8\"]\n",
    "train_gestures = [\"1\", \"2\", \"3\", \"4\", \"5\", \"6\", \"7\", \"8\", \"9\", \"I\", \"IP\", \"L\", \"MP\", \"RP\", \"T\", \"TIP\", \"Y\"]\n",
    "train_dataset = ProjectionDataset(dataset_dir, train_subjects, train_gestures, plane)\n",
    "train_dataloader = DataLoader(train_dataset, batch_size=256, shuffle=True)"
   ]
  },
  {
   "cell_type": "code",
   "execution_count": 4,
   "id": "b19ddf31",
   "metadata": {
    "scrolled": false
   },
   "outputs": [
    {
     "data": {
      "image/png": "[encoded data removed]",
      "text/plain": [
       "<Figure size 640x480 with 1 Axes>"
      ]
     },
     "metadata": {},
     "output_type": "display_data"
    },
    {
     "data": {
      "image/png": "[encoded data removed]",
      "text/plain": [
       "<Figure size 640x480 with 1 Axes>"
      ]
     },
     "metadata": {},
     "output_type": "display_data"
    }
   ],
   "source": [
    "# Visualize sample\n",
    "image, heatmap_gt = next(iter(train_dataloader))\n",
    "\n",
    "plt.imshow(torch.squeeze(image[0], 0).numpy(), cmap='gray', vmin=-1, vmax=1)\n",
    "plt.show()\n",
    "\n",
    "plt.imshow(torch.squeeze(heatmap_gt[0][0], 0).numpy(), cmap='gray', vmin=0, vmax=1)\n",
    "plt.show()"
   ]
  },
  {
   "cell_type": "code",
   "execution_count": 5,
   "id": "28ca05c4",
   "metadata": {},
   "outputs": [],
   "source": [
    "val_subjects = [\"P0\"]\n",
    "val_gestures = [\"1\", \"2\", \"3\", \"4\", \"5\", \"6\", \"7\", \"8\", \"9\", \"I\", \"IP\", \"L\", \"MP\", \"RP\", \"T\", \"TIP\", \"Y\"]\n",
    "val_dataset = ProjectionDataset(dataset_dir, val_subjects, val_gestures, plane)\n",
    "val_dataloader = DataLoader(val_dataset, batch_size=256, shuffle=False)"
   ]
  },
  {
   "cell_type": "code",
   "execution_count": 6,
   "id": "41e5e980",
   "metadata": {},
   "outputs": [],
   "source": [
    "# Load the model\n",
    "device = 'cuda'\n",
    "model = HeatmapEstimator().to(device)"
   ]
  },
  {
   "cell_type": "code",
   "execution_count": 7,
   "id": "fddba077",
   "metadata": {},
   "outputs": [],
   "source": [
    "# Configure the optimizer and criterion\n",
    "optimizer = torch.optim.Adam(model.parameters(), lr=0.2, weight_decay=0.0005)\n",
    "criterion = torch.nn.MSELoss()"
   ]
  },
  {
   "cell_type": "code",
   "execution_count": null,
   "id": "93146c22",
   "metadata": {
    "scrolled": false
   },
   "outputs": [
    {
     "name": "stdout",
     "output_type": "stream",
     "text": [
      "Computing epoch 0\n",
      "Minibatch 0 Loss = 0.01266467\n",
      "Minibatch 50 Loss = 0.01255756\n",
      "Minibatch 100 Loss = 0.01247547\n",
      "Minibatch 150 Loss = 0.01241419\n",
      "Minibatch 200 Loss = 0.01237918\n",
      "Minibatch 250 Loss = 0.01233377\n",
      "Epoch 0: Training Loss = 0.01243093, Validation Loss = 0.01225540\n",
      "Computing epoch 1\n",
      "Minibatch 0 Loss = 0.01230067\n",
      "Minibatch 50 Loss = 0.01229606\n",
      "Minibatch 100 Loss = 0.01225507\n",
      "Minibatch 150 Loss = 0.01227503\n",
      "Minibatch 200 Loss = 0.01222549\n",
      "Minibatch 250 Loss = 0.01219824\n",
      "Epoch 1: Training Loss = 0.01225259, Validation Loss = 0.01216592\n",
      "Computing epoch 2\n",
      "Minibatch 0 Loss = 0.01208703\n",
      "Minibatch 50 Loss = 0.01224293\n",
      "Minibatch 100 Loss = 0.01223455\n"
     ]
    }
   ],
   "source": [
    "# Main training loop\n",
    "epochs = 50\n",
    "train_loss_over_epochs = []\n",
    "val_loss_over_epochs = []\n",
    "for epoch in range(epochs):\n",
    "    print(\"Computing epoch\", epoch)\n",
    "    minibatch = 0\n",
    "\n",
    "    train_loss = 0\n",
    "    for lcn, heatmaps in train_dataloader:    \n",
    "        optimizer.zero_grad()\n",
    "        \n",
    "        lcn = lcn.type(torch.FloatTensor).to(device)\n",
    "        lcn = torch.unsqueeze(lcn, dim=1)\n",
    "        pred = model(lcn)\n",
    "        \n",
    "        heatmaps = heatmaps.type(torch.FloatTensor).to(device)\n",
    "        loss = criterion(pred, heatmaps)\n",
    "        \n",
    "        loss.backward()\n",
    "        optimizer.step()\n",
    "        \n",
    "        if (minibatch % 50 == 0):\n",
    "            print(\"Minibatch {} Loss = {:.8f}\".format(minibatch, loss.item()))\n",
    "        minibatch += 1    \n",
    "            \n",
    "        train_loss += loss.cpu().item()\n",
    "    train_loss /= len(train_dataloader)\n",
    "    train_loss_over_epochs.append(train_loss)     \n",
    "    \n",
    "    val_loss = 0\n",
    "    model.eval()\n",
    "    with torch.no_grad():\n",
    "        for lcn, heatmaps in val_dataloader:\n",
    "            lcn = lcn.type(torch.FloatTensor).to(device)\n",
    "            lcn = torch.unsqueeze(lcn, dim=1)\n",
    "            pred = model(lcn)\n",
    "\n",
    "            heatmaps = heatmaps.type(torch.FloatTensor).to(device)\n",
    "            loss = criterion(pred, heatmaps)\n",
    "            val_loss += loss.cpu().item()\n",
    "    val_loss /= len(val_dataloader)\n",
    "    val_loss_over_epochs.append(val_loss)\n",
    "    \n",
    "    if (epoch + 1 % 10 == 0):\n",
    "        for g in optimizer.param_groups:\n",
    "            g['lr'] /= 2\n",
    "    \n",
    "    print(\"Epoch {}: Training Loss = {:.8f}, Validation Loss = {:.8f}\".format(epoch, train_loss, val_loss))"
   ]
  },
  {
   "cell_type": "code",
   "execution_count": null,
   "id": "6c7d7d56",
   "metadata": {},
   "outputs": [],
   "source": [
    "# Plot training and validation loss\n",
    "plt.subplot(2, 1, 1)\n",
    "plt.ylabel('Loss')\n",
    "plt.plot(np.arange(epochs), train_loss_over_epochs, color='red', label='train')\n",
    "plt.plot(np.arange(epochs), val_loss_over_epochs, color='blue', label='val')\n",
    "plt.title('Loss per Epoch')\n",
    "plt.xticks(np.arange(epochs, dtype=int))\n",
    "plt.grid(True)\n",
    "plt.legend()\n",
    "plt.show()"
   ]
  },
  {
   "cell_type": "code",
   "execution_count": null,
   "id": "9951646e",
   "metadata": {},
   "outputs": [],
   "source": [
    "torch.save(model.state_dict(), model_path)"
   ]
  },
  {
   "cell_type": "markdown",
   "id": "6134f806",
   "metadata": {},
   "source": [
    "## Evaluation"
   ]
  },
  {
   "cell_type": "code",
   "execution_count": null,
   "id": "d0036b10",
   "metadata": {},
   "outputs": [],
   "source": [
    "model = HeatmapEstimator()\n",
    "model.load_state_dict(torch.load(model_path))\n",
    "model = model.to(device)"
   ]
  },
  {
   "cell_type": "code",
   "execution_count": null,
   "id": "0bcc46a9",
   "metadata": {},
   "outputs": [],
   "source": [
    "# Visualize sample\n",
    "image, heatmap_gt = next(iter(val_dataloader))\n",
    "\n",
    "plt.imshow(torch.squeeze(image[0], 0).numpy(), cmap='gray', vmin=-1, vmax=1)\n",
    "plt.show()\n",
    "\n",
    "plt.imshow(torch.squeeze(image[100], 0).numpy(), cmap='gray', vmin=-1, vmax=1)\n",
    "plt.show()"
   ]
  },
  {
   "cell_type": "code",
   "execution_count": null,
   "id": "b7d834df",
   "metadata": {},
   "outputs": [],
   "source": [
    "im_max = np.max(heatmap_gt[0][2].cpu().numpy())\n",
    "plt.imshow(torch.squeeze(heatmap_gt[0][2], 0).numpy() / im_max, cmap='gray', vmin=0, vmax=1)\n",
    "plt.show()\n",
    "\n",
    "im_max = np.max(heatmap_gt[100][2].cpu().numpy())\n",
    "plt.imshow(torch.squeeze(heatmap_gt[100][2], 0).numpy() / im_max, cmap='gray', vmin=0, vmax=1)\n",
    "plt.show()"
   ]
  },
  {
   "cell_type": "code",
   "execution_count": null,
   "id": "8d7e5228",
   "metadata": {},
   "outputs": [],
   "source": [
    "image = torch.unsqueeze(image.type(torch.FloatTensor).to(device), dim=1)\n",
    "model.eval()\n",
    "with torch.no_grad():\n",
    "    pred = model(image)\n",
    "    \n",
    "    im_max = np.max(pred[0][2].cpu().numpy())\n",
    "    plt.imshow(pred[0][2].cpu().numpy() / im_max, cmap='gray', vmin=0, vmax=1)\n",
    "    plt.show()\n",
    "    \n",
    "    im_max = np.max(pred[100][2].cpu().numpy())\n",
    "    plt.imshow(pred[100][2].cpu().numpy() / im_max, cmap='gray', vmin=0, vmax=1)\n",
    "    plt.show()"
   ]
  },
  {
   "cell_type": "code",
   "execution_count": null,
   "id": "56ca58ae",
   "metadata": {},
   "outputs": [],
   "source": []
  },
  {
   "cell_type": "code",
   "execution_count": null,
   "id": "e698c34c",
   "metadata": {},
   "outputs": [],
   "source": []
  }
 ],
 "metadata": {
  "kernelspec": {
   "display_name": "Python 3 (ipykernel)",
   "language": "python",
   "name": "python3"
  },
  "language_info": {
   "codemirror_mode": {
    "name": "ipython",
    "version": 3
   },
   "file_extension": ".py",
   "mimetype": "text/x-python",
   "name": "python",
   "nbconvert_exporter": "python",
   "pygments_lexer": "ipython3",
   "version": "3.8.5"
  }
 },
 "nbformat": 4,
 "nbformat_minor": 5
}
