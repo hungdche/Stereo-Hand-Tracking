{
 "cells": [
  {
   "cell_type": "code",
   "execution_count": 1,
   "id": "bd1c1028",
   "metadata": {},
   "outputs": [],
   "source": [
    "import cv2\n",
    "import torch\n",
    "from torch.utils.data import DataLoader\n",
    "import matplotlib.pyplot as plt\n",
    "%matplotlib inline  \n",
    "\n",
    "from projection_dataset import ProjectionDataset"
   ]
  },
  {
   "cell_type": "code",
   "execution_count": 2,
   "id": "a04aa404",
   "metadata": {},
   "outputs": [],
   "source": [
    "dataset_dir = \"./projections\"\n",
    "subjects = [\"P1\", \"P2\", \"P3\", \"P4\", \"P5\", \"P6\", \"P7\", \"P8\"]\n",
    "gestures = [\"1\", \"2\", \"3\", \"4\", \"5\", \"6\", \"7\", \"8\", \"9\", \"I\", \"IP\", \"L\", \"MP\", \"RP\", \"T\", \"TIP\", \"Y\"]\n",
    "\n",
    "plane = \"XY\" # Other planes: YZ and ZX"
   ]
  },
  {
   "cell_type": "code",
   "execution_count": 3,
   "id": "27755a74",
   "metadata": {},
   "outputs": [],
   "source": [
    "dataset = ProjectionDataset(dataset_dir, subjects, gestures, plane)"
   ]
  },
  {
   "cell_type": "code",
   "execution_count": 6,
   "id": "e07a10bb",
   "metadata": {},
   "outputs": [
    {
     "name": "stdout",
     "output_type": "stream",
     "text": [
      "torch.Size([1, 96, 96])\n"
     ]
    },
    {
     "data": {
      "image/png": "[encoded data removed]",
      "text/plain": [
       "<Figure size 640x480 with 1 Axes>"
      ]
     },
     "metadata": {},
     "output_type": "display_data"
    }
   ],
   "source": [
    "train_dataloader = DataLoader(dataset, batch_size = 1, shuffle=True)\n",
    "test = next(iter(train_dataloader))\n",
    "print(test.shape)\n",
    "plt.imshow(torch.squeeze(test, 0).numpy(), cmap='gray', vmin=0, vmax=1)\n",
    "plt.show()"
   ]
  },
  {
   "cell_type": "code",
   "execution_count": null,
   "id": "75d40904",
   "metadata": {},
   "outputs": [],
   "source": []
  }
 ],
 "metadata": {
  "kernelspec": {
   "display_name": "Python 3 (ipykernel)",
   "language": "python",
   "name": "python3"
  },
  "language_info": {
   "codemirror_mode": {
    "name": "ipython",
    "version": 3
   },
   "file_extension": ".py",
   "mimetype": "text/x-python",
   "name": "python",
   "nbconvert_exporter": "python",
   "pygments_lexer": "ipython3",
   "version": "3.8.5"
  }
 },
 "nbformat": 4,
 "nbformat_minor": 5
}
